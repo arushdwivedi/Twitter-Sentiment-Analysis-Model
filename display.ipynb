{
 "cells": [
  {
   "cell_type": "code",
   "execution_count": null,
   "id": "a6bde532",
   "metadata": {},
   "outputs": [
    {
     "name": "stderr",
     "output_type": "stream",
     "text": [
      "[nltk_data] Downloading package stopwords to\n",
      "[nltk_data]     /Users/arushdwivedi/nltk_data...\n",
      "[nltk_data]   Package stopwords is already up-to-date!\n",
      "/opt/anaconda3/lib/python3.12/site-packages/sklearn/base.py:380: InconsistentVersionWarning: Trying to unpickle estimator LogisticRegression from version 1.4.2 when using version 1.6.1. This might lead to breaking code or invalid results. Use at your own risk. For more info please refer to:\n",
      "https://scikit-learn.org/stable/model_persistence.html#security-maintainability-limitations\n",
      "  warnings.warn(\n"
     ]
    }
   ],
   "source": [
    "import pickle\n",
    "from nltk.stem.porter import PorterStemmer\n",
    "from nltk.corpus import stopwords\n",
    "port_stem=PorterStemmer()\n",
    "import nltk\n",
    "nltk.download('stopwords')\n",
    "import re\n",
    "import streamlit as st\n",
    "loadedmodel=pickle.load(open('trainedmodel.sav','rb'))"
   ]
  },
  {
   "cell_type": "code",
   "execution_count": 11,
   "id": "1db1b891",
   "metadata": {},
   "outputs": [],
   "source": [
    "\n",
    "def stemming(content):\n",
    "    stemmed_content= re.sub('[^a-zA-Z]', ' ',content)\n",
    "    stemmed_content=stemmed_content.lower()\n",
    "    stemmed_content=stemmed_content.split()\n",
    "    stemmed_content=[port_stem.stem(word) for word in stemmed_content if not word in stopwords.words('english')]\n",
    "    stemmed_content=' '.join(stemmed_content)\n",
    "\n",
    "    return stemmed_content"
   ]
  },
  {
   "cell_type": "code",
   "execution_count": 12,
   "id": "97df84f4",
   "metadata": {},
   "outputs": [],
   "source": [
    "sampletweet = [\"A person who loves you, will treat you well. You don't beg to be treated well.\"]\n",
    "sampletweet = [stemming(tweet) for tweet in sampletweet] "
   ]
  },
  {
   "cell_type": "code",
   "execution_count": 13,
   "id": "3c1ca798",
   "metadata": {},
   "outputs": [
    {
     "name": "stderr",
     "output_type": "stream",
     "text": [
      "/opt/anaconda3/lib/python3.12/site-packages/sklearn/base.py:380: InconsistentVersionWarning: Trying to unpickle estimator TfidfTransformer from version 1.4.2 when using version 1.6.1. This might lead to breaking code or invalid results. Use at your own risk. For more info please refer to:\n",
      "https://scikit-learn.org/stable/model_persistence.html#security-maintainability-limitations\n",
      "  warnings.warn(\n",
      "/opt/anaconda3/lib/python3.12/site-packages/sklearn/base.py:380: InconsistentVersionWarning: Trying to unpickle estimator TfidfVectorizer from version 1.4.2 when using version 1.6.1. This might lead to breaking code or invalid results. Use at your own risk. For more info please refer to:\n",
      "https://scikit-learn.org/stable/model_persistence.html#security-maintainability-limitations\n",
      "  warnings.warn(\n"
     ]
    }
   ],
   "source": [
    "vectorizer2=pickle.load(open('vectorizer.sav','rb'))\n",
    "sampletweet=vectorizer2.transform(sampletweet)"
   ]
  },
  {
   "cell_type": "code",
   "execution_count": null,
   "id": "1ef7bc63",
   "metadata": {},
   "outputs": [
    {
     "name": "stdout",
     "output_type": "stream",
     "text": [
      "positive tweet\n"
     ]
    }
   ],
   "source": [
    "def predict(sampletweet):\n",
    "    sampletweetpred= loadedmodel.predict(sampletweet)\n",
    "    if sampletweetpred==1:\n",
    "        st.text('positive tweet')\n",
    "    else:\n",
    "        st.text('negative tweet')"
   ]
  },
  {
   "cell_type": "code",
   "execution_count": null,
   "id": "4518d8ba",
   "metadata": {},
   "outputs": [],
   "source": [
    "def main():\n",
    "    st.title(\"Tweet Sentiment Analysis\")\n",
    "    st.text(\"Enter the tweet to be analysed:\")\n",
    "    sampletweet=st.text_input(\"Tweet\",\"Type Here\")\n",
    "    predict(sampletweet)\n"
   ]
  },
  {
   "cell_type": "code",
   "execution_count": null,
   "id": "122b1d31",
   "metadata": {},
   "outputs": [],
   "source": [
    "if __name__ == '__main__':\n",
    "    main()"
   ]
  }
 ],
 "metadata": {
  "kernelspec": {
   "display_name": "base",
   "language": "python",
   "name": "python3"
  },
  "language_info": {
   "codemirror_mode": {
    "name": "ipython",
    "version": 3
   },
   "file_extension": ".py",
   "mimetype": "text/x-python",
   "name": "python",
   "nbconvert_exporter": "python",
   "pygments_lexer": "ipython3",
   "version": "3.12.4"
  }
 },
 "nbformat": 4,
 "nbformat_minor": 5
}
